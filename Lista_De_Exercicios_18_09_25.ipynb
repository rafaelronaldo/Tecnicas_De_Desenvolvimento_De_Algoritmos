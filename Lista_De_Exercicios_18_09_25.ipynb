{
  "nbformat": 4,
  "nbformat_minor": 0,
  "metadata": {
    "colab": {
      "provenance": [],
      "authorship_tag": "ABX9TyPFClJvaf2OXZrDe20DbPBZ",
      "include_colab_link": true
    },
    "kernelspec": {
      "name": "python3",
      "display_name": "Python 3"
    },
    "language_info": {
      "name": "python"
    }
  },
  "cells": [
    {
      "cell_type": "markdown",
      "metadata": {
        "id": "view-in-github",
        "colab_type": "text"
      },
      "source": [
        "<a href=\"https://colab.research.google.com/github/rafaelronaldo/Tecnicas_De_Desenvolvimento_De_Algoritmos/blob/main/Lista_De_Exercicios_18_09_25.ipynb\" target=\"_parent\"><img src=\"https://colab.research.google.com/assets/colab-badge.svg\" alt=\"Open In Colab\"/></a>"
      ]
    },
    {
      "cell_type": "markdown",
      "source": [
        "1 - Escreva um programa que apresente na tela a frase: \"Meu primeiro programa!!!\""
      ],
      "metadata": {
        "id": "2Y7BX7qnP6VB"
      }
    },
    {
      "cell_type": "code",
      "source": [
        "print(\"Meu primeiro programa!!!\")"
      ],
      "metadata": {
        "colab": {
          "base_uri": "https://localhost:8080/"
        },
        "id": "PevW1PnPP7xI",
        "outputId": "5800177f-1fb7-4258-a98d-6717a6047881"
      },
      "execution_count": null,
      "outputs": [
        {
          "output_type": "stream",
          "name": "stdout",
          "text": [
            "Meu primeiro programa!!!\n"
          ]
        }
      ]
    },
    {
      "cell_type": "markdown",
      "source": [
        "2 - Escreva um programa que solicite ao usuário um número inteiro e ao final apresente na tela o número informado pelo usuário do programa\n"
      ],
      "metadata": {
        "id": "aoRDS1biQCNc"
      }
    },
    {
      "cell_type": "code",
      "source": [
        "numero = int(input(\"Digite um número inteiro: \"))\n",
        "print(\"Você digitou o número: {}.\".format(numero))"
      ],
      "metadata": {
        "colab": {
          "base_uri": "https://localhost:8080/"
        },
        "id": "ZvPdb2NjQIHd",
        "outputId": "27539437-aced-407d-8fa0-9f5de27d2a16"
      },
      "execution_count": null,
      "outputs": [
        {
          "output_type": "stream",
          "name": "stdout",
          "text": [
            "Digite um número inteiro: 10\n",
            "Você digitou o número: 10.\n"
          ]
        }
      ]
    },
    {
      "cell_type": "markdown",
      "source": [
        "3 - Escreva um programa que solicite ao usuário um número inteiro e ao final apresente na tela o número informado da seguinte forma: \"Foi informado o valor: X\"\n"
      ],
      "metadata": {
        "id": "wh_anW3EQfkM"
      }
    },
    {
      "cell_type": "code",
      "source": [
        "numero = int(input(\"Digite um número inteiro: \"))\n",
        "print(\"Foi informado o valor: {}\".format(numero))"
      ],
      "metadata": {
        "colab": {
          "base_uri": "https://localhost:8080/"
        },
        "id": "2rloNMJ1Qggs",
        "outputId": "3f630f71-9052-42c0-f98d-60f70ba88b2c"
      },
      "execution_count": null,
      "outputs": [
        {
          "output_type": "stream",
          "name": "stdout",
          "text": [
            "Digite um número inteiro: 15\n",
            "Foi informado o valor: 15\n"
          ]
        }
      ]
    },
    {
      "cell_type": "markdown",
      "source": [
        "4 - Escreva um programa que solicite ao usuário dois números inteiros e ao final apresente na tela os dois números informados da seguinte forma: \"Voce informou os numeros X e Y\"\n"
      ],
      "metadata": {
        "id": "_-d7kv0gQ8Hj"
      }
    },
    {
      "cell_type": "code",
      "source": [
        "numero1 = int(input(\"Digite o primeiro número inteiro: \"))\n",
        "numero2 = int(input(\"Digite o segundo número inteiro: \"))\n",
        "print(\"Você informou os numeros {} e {}\".format(numero1, numero2))"
      ],
      "metadata": {
        "colab": {
          "base_uri": "https://localhost:8080/"
        },
        "id": "tnOw5KaJQ822",
        "outputId": "b9c21dbb-02ab-4144-bf71-d55bd677b1a1"
      },
      "execution_count": null,
      "outputs": [
        {
          "output_type": "stream",
          "name": "stdout",
          "text": [
            "Digite o primeiro número inteiro: 10\n",
            "Digite o segundo número inteiro: 20\n",
            "Você informou os numeros 10 e 20\n"
          ]
        }
      ]
    },
    {
      "cell_type": "markdown",
      "source": [
        "5 - Escreva um programa que solicite ao usuário um número real e ao final apresente na tela o número informado formatado com duas casas decimais da seguinte forma: \"Voce informou o numero X.YY"
      ],
      "metadata": {
        "id": "RqiBAW5QRYxB"
      }
    },
    {
      "cell_type": "code",
      "source": [
        "numero_real = float(input(\"Digite um número real: \"))\n",
        "print(\"Você informou o numero {:0.2f}\".format(numero_real))"
      ],
      "metadata": {
        "colab": {
          "base_uri": "https://localhost:8080/"
        },
        "id": "UtWSB0PBRbo_",
        "outputId": "51120fef-2e95-4142-9c6b-d8d3981d5ed9"
      },
      "execution_count": null,
      "outputs": [
        {
          "output_type": "stream",
          "name": "stdout",
          "text": [
            "Digite um número real: 10\n",
            "Você informou o numero 10.00\n"
          ]
        }
      ]
    },
    {
      "cell_type": "markdown",
      "source": [
        "6 - Escreva um programa que solicite ao usuário a temperatura em graus Celsius e ao final apresente a temperatura correspondente em graus Farenheit. F = Celsius * 1.8 + 32\n"
      ],
      "metadata": {
        "id": "uqIYs7wZRvcI"
      }
    },
    {
      "cell_type": "code",
      "source": [
        "graus = float(input(\"Qual é a temperatura em graus celsius?\"))\n",
        "farenheit = graus*1.8 + 32\n",
        "print(\"Graus Celsius: {}\".format(graus))\n",
        "print(\"Graus em Farenheit: {}\".format(farenheit))"
      ],
      "metadata": {
        "colab": {
          "base_uri": "https://localhost:8080/"
        },
        "id": "ULX2YFn6RyEu",
        "outputId": "00a96352-ab41-4ddd-b0e2-e6e1570556f1"
      },
      "execution_count": null,
      "outputs": [
        {
          "output_type": "stream",
          "name": "stdout",
          "text": [
            "Qual é a temperatura em graus celsius?32\n",
            "Graus Celsius: 32.0\n",
            "Graus em Farenheit: 89.6\n"
          ]
        }
      ]
    },
    {
      "cell_type": "markdown",
      "source": [
        "7 - Escreva um programa que solicite ao usuário um número inteiro e um número real e ao final apresente na tela os dois números informados formatando com duas casas decimais somente o número real da seguinte forma: \"Voce informou os numeros N e X.YY\"\n"
      ],
      "metadata": {
        "id": "YVnHBY9eSc9A"
      }
    },
    {
      "cell_type": "code",
      "source": [
        "numero_inteiro = int(input(\"Digite um número inteiro: \"))\n",
        "numero_real = float(input(\"Digite um número real: \"))\n",
        "print(\"Você informou os numeros {} e {:0.2f}\".format(numero_inteiro, numero_real))"
      ],
      "metadata": {
        "colab": {
          "base_uri": "https://localhost:8080/"
        },
        "id": "k3cC8vC1Sdu8",
        "outputId": "3e33d8eb-b122-42a0-9538-55b46a9cc9e8"
      },
      "execution_count": null,
      "outputs": [
        {
          "output_type": "stream",
          "name": "stdout",
          "text": [
            "Digite um número inteiro: 10\n",
            "Digite um número real: 1.35\n",
            "Você informou os numeros 10 e 1.35\n"
          ]
        }
      ]
    },
    {
      "cell_type": "markdown",
      "source": [
        "8 - Escreva um programa que solicite ao usuário a primeira letra de seu nome e ao final apresente na tela a letra informada pelo usuário da seguinte forma: \"Voce digitou w\"\n"
      ],
      "metadata": {
        "id": "neYP6DkyTGmm"
      }
    },
    {
      "cell_type": "code",
      "source": [
        "primeira_letra = input(\"Digite a primeira letra do seu nome: \")\n",
        "print(\"Você digitou {}\".format(primeira_letra))"
      ],
      "metadata": {
        "colab": {
          "base_uri": "https://localhost:8080/"
        },
        "id": "0X8ZLO1UTHbx",
        "outputId": "bc37b755-9e49-45b8-86ff-ba8549dd07d4"
      },
      "execution_count": null,
      "outputs": [
        {
          "output_type": "stream",
          "name": "stdout",
          "text": [
            "Digite a primeira letra do seu nome: R\n",
            "Você digitou R\n"
          ]
        }
      ]
    },
    {
      "cell_type": "markdown",
      "source": [
        "9 - Escreva um programa que solicite ao usuário o nome de sua cor preferida e ao final apresente na tela a cor informada pelo usuário da seguinte forma: \"Voce gosta da cor AAA\"\n"
      ],
      "metadata": {
        "id": "wT4I2Gu9Tb2w"
      }
    },
    {
      "cell_type": "code",
      "source": [
        "cor_favorita = input(\"Qual é a sua cor preferida? \")\n",
        "print(\"Você gosta da cor {}\".format(cor_favorita))"
      ],
      "metadata": {
        "colab": {
          "base_uri": "https://localhost:8080/"
        },
        "id": "7ScETK59TchS",
        "outputId": "3ea5a7aa-9f6b-4f01-fd32-f1242c911448"
      },
      "execution_count": null,
      "outputs": [
        {
          "output_type": "stream",
          "name": "stdout",
          "text": [
            "Qual é a sua cor preferida? Azul\n",
            "Você gosta da cor Azul\n"
          ]
        }
      ]
    },
    {
      "cell_type": "markdown",
      "source": [
        "10 - Escreva um programa que solicite ao usuário o nome de uma verdura e uma fruta de sua preferencia e ao final apresente na tela as informações digitadas pelo usuário da seguinte forma: \"Voce gosta de AAAAAAA e BBBBBBB"
      ],
      "metadata": {
        "id": "_gkXnXclTsNT"
      }
    },
    {
      "cell_type": "code",
      "source": [
        "verdura = input(\"Escreva uma verdura: \")\n",
        "fruta = input(\"Escreva uma fruta: \")\n",
        "print(\"Você gosta de {} e {}\".format(verdura, fruta))"
      ],
      "metadata": {
        "colab": {
          "base_uri": "https://localhost:8080/"
        },
        "id": "z6Ad45RrTtXT",
        "outputId": "f04573bc-9efc-4c01-d6da-c1d0931b1b99"
      },
      "execution_count": null,
      "outputs": [
        {
          "output_type": "stream",
          "name": "stdout",
          "text": [
            "Escreva uma verdura: Alface\n",
            "Escreva uma fruta: Laranja\n",
            "Você gosta de Alface e Laranja\n"
          ]
        }
      ]
    },
    {
      "cell_type": "markdown",
      "source": [
        "11 - Elabore um algoritmo que solicite ao usuário um número real e ao final imprima na tela o numero informado e na linha de baixo o dobro deste número da seguinte forma:\n",
        "'''\n",
        "  Numero -> X\n",
        "    Dobro deste numero -> Y\n",
        "'''\n",
        "print ()\n"
      ],
      "metadata": {
        "id": "WKbBkSiRUBXX"
      }
    },
    {
      "cell_type": "code",
      "source": [
        "numero_real = int(input(\"Digite um número real: \"))\n",
        "dobro = numero_real * 2\n",
        "print(\"Numero -> {}\".format(numero_real))\n",
        "print(\"Dobro deste número -> {}\".format(dobro))"
      ],
      "metadata": {
        "colab": {
          "base_uri": "https://localhost:8080/"
        },
        "id": "b3zic5HvUCEZ",
        "outputId": "8391db8d-411e-46af-fd4d-a30c4fab777e"
      },
      "execution_count": null,
      "outputs": [
        {
          "output_type": "stream",
          "name": "stdout",
          "text": [
            "Digite um número real: 10\n",
            "Numero -> 10\n",
            "Dobro deste número -> 20\n"
          ]
        }
      ]
    },
    {
      "cell_type": "markdown",
      "source": [
        "12 - Reescrever o programa anterior apresentando o quadrado e o cubo do número informado\n"
      ],
      "metadata": {
        "id": "701RBVn0UiAd"
      }
    },
    {
      "cell_type": "code",
      "source": [
        "numero_real = int(input(\"Digite um número real: \"))\n",
        "quadrado = numero_real ** 2\n",
        "cubo = numero_real ** 3\n",
        "print(\"Numero informado: {}\".format(numero_real))\n",
        "print(\"Quadrado deste número: {}\".format(quadrado))\n",
        "print(\"Cubo deste número: {}\".format(cubo))"
      ],
      "metadata": {
        "colab": {
          "base_uri": "https://localhost:8080/"
        },
        "id": "_903t9dwUj_3",
        "outputId": "26301905-c8f1-4873-b437-b3af60460118"
      },
      "execution_count": null,
      "outputs": [
        {
          "output_type": "stream",
          "name": "stdout",
          "text": [
            "Digite um número real: 5\n",
            "Numero informado: 5\n",
            "Quadrado deste número: 25\n",
            "Cubo deste número: 125\n"
          ]
        }
      ]
    },
    {
      "cell_type": "markdown",
      "source": [
        "13 - Escreva um programa que solicite ao usuário dois números inteiros e ao final apresente na tela a soma dos dois números informados da seguinte forma: \"O numeros N e X somados correspondem a Y"
      ],
      "metadata": {
        "id": "EGpZUWvVVYl1"
      }
    },
    {
      "cell_type": "code",
      "source": [
        "primeiro_numero = int(input(\"Digite o primeiro número inteiro: \"))\n",
        "segundo_numero = int(input(\"Digite o segundo número inteiro: \"))\n",
        "soma = primeiro_numero + segundo_numero\n",
        "print(\"Os numeros {} e {} somados correspodem a {}\".format(primeiro_numero, segundo_numero, soma))"
      ],
      "metadata": {
        "colab": {
          "base_uri": "https://localhost:8080/"
        },
        "id": "vXiZpYs0VZNI",
        "outputId": "a102cb74-b599-4ddc-c908-8e7abf68cd2b"
      },
      "execution_count": null,
      "outputs": [
        {
          "output_type": "stream",
          "name": "stdout",
          "text": [
            "Digite o primeiro número inteiro: 10\n",
            "Digite o segundo número inteiro: 5\n",
            "Os numeros 10 e 5 somados correspodem a 15\n"
          ]
        }
      ]
    },
    {
      "cell_type": "markdown",
      "source": [
        "14 - Escreva um programa que solicite ao usuário dois números reais e ao final apresente na tela o produto dos dois números informados da seguinte forma: \"O produto dos numeros N e X corresponde a Y\"\n"
      ],
      "metadata": {
        "id": "5UxHVVdLWNZp"
      }
    },
    {
      "cell_type": "code",
      "source": [
        "primeiro_numero_real = float(input(\"Digite o primeiro número real: \"))\n",
        "segundo_numero_real = float(input(\"Digite o segundo número real: \"))\n",
        "produto = primeiro_numero_real * segundo_numero_real\n",
        "print(\"Os produtos dos numeros {} e {} corresponde a {}\".format(primeiro_numero_real, segundo_numero_real, produto))\n"
      ],
      "metadata": {
        "colab": {
          "base_uri": "https://localhost:8080/"
        },
        "id": "vF3ox1nnWQk7",
        "outputId": "83125017-afcf-4c15-be2c-3b964f219a81"
      },
      "execution_count": null,
      "outputs": [
        {
          "output_type": "stream",
          "name": "stdout",
          "text": [
            "Digite o primeiro número real: 10\n",
            "Digite o segundo número real: 5\n",
            "Os produtos dos numeros 10.0 e 5.0 corresponde a 50.0\n"
          ]
        }
      ]
    },
    {
      "cell_type": "markdown",
      "source": [
        "15 - Refazer o programa 14 realizando as quatro operações aritméticas básicas"
      ],
      "metadata": {
        "id": "e_YjSkdgW5q2"
      }
    },
    {
      "cell_type": "code",
      "source": [
        "primeiro_numero_real = float(input(\"Digite o primeiro número real: \"))\n",
        "segundo_numero_real = float(input(\"Digite o segundo número real: \"))\n",
        "soma = primeiro_numero_real + segundo_numero_real\n",
        "subtracao = primeiro_numero_real - segundo_numero_real\n",
        "produto = primeiro_numero_real * segundo_numero_real\n",
        "divisao = primeiro_numero_real / segundo_numero_real\n",
        "\n",
        "print(\"A soma dos números {} e {} corresponde a {}\".format(primeiro_numero_real, segundo_numero_real, soma))\n",
        "print(\"A subtração dos números {} e {} corresponde a {}\".format(primeiro_numero_real, segundo_numero_real, subtracao))\n",
        "print(\"Os produtos dos números {} e {} corresponde a {}\".format(primeiro_numero_real, segundo_numero_real, produto))\n",
        "print(\"A divisão dos numeros {} e {} corresponde a {}\".format(primeiro_numero_real, segundo_numero_real, divisao))"
      ],
      "metadata": {
        "colab": {
          "base_uri": "https://localhost:8080/"
        },
        "id": "-PX6A3EmW6WZ",
        "outputId": "b595bb1b-9ff6-463f-aeaf-25eb41be3d5a"
      },
      "execution_count": null,
      "outputs": [
        {
          "output_type": "stream",
          "name": "stdout",
          "text": [
            "Digite o primeiro número real: 50\n",
            "Digite o segundo número real: 20\n",
            "A soma dos números 50.0 e 20.0 corresponde a 70.0\n",
            "A subtração dos números 50.0 e 20.0 corresponde a 30.0\n",
            "Os produtos dos números 50.0 e 20.0 corresponde a 1000.0\n",
            "A divisão dos numeros 50.0 e 20.0 corresponde a 2.5\n"
          ]
        }
      ]
    },
    {
      "cell_type": "markdown",
      "source": [
        "16 - Escreva um programa que solicite o valor fixo do salário de um vendedor, o total vendido no mês e o percentual de comissão do vendedor. Ao final apresentar o salário bruto."
      ],
      "metadata": {
        "id": "cVmvthCiXqxi"
      }
    },
    {
      "cell_type": "code",
      "source": [
        "valor_fixo = float(input(\"Digite o valor fixo do seu salário de vendedor: \"))\n",
        "total_vendido_mes = float(input(\"Digite o total vendido no mês: \"))\n",
        "comissao = float(input(\"Digite o percentual de comissão do vendedor: \"))\n",
        "valor_total_com_comissao = total_vendido_mes * (comissao/100)\n",
        "salario_bruto = valor_fixo + valor_total_com_comissao\n",
        "print(\"O seu salário bruto é de: {}\".format(salario_bruto))"
      ],
      "metadata": {
        "id": "63tLr_5FXrcW",
        "colab": {
          "base_uri": "https://localhost:8080/"
        },
        "outputId": "1a30e229-c3bf-46ee-bf6e-9a72aa12e105"
      },
      "execution_count": 3,
      "outputs": [
        {
          "output_type": "stream",
          "name": "stdout",
          "text": [
            "Digite o valor fixo do seu salário de vendedor: 1500\n",
            "Digite o total vendido no mês: 2000\n",
            "Digite o percentual de comissão do vendedor: 5\n",
            "O seu salário bruto é de: 1600.0\n"
          ]
        }
      ]
    },
    {
      "cell_type": "markdown",
      "source": [],
      "metadata": {
        "id": "cEqAUiDgXiLe"
      }
    }
  ]
}