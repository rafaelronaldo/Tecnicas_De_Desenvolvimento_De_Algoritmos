{
  "nbformat": 4,
  "nbformat_minor": 0,
  "metadata": {
    "colab": {
      "provenance": [],
      "authorship_tag": "ABX9TyMRuw8xP3jyxcbStUzq3cRr",
      "include_colab_link": true
    },
    "kernelspec": {
      "name": "python3",
      "display_name": "Python 3"
    },
    "language_info": {
      "name": "python"
    }
  },
  "cells": [
    {
      "cell_type": "markdown",
      "metadata": {
        "id": "view-in-github",
        "colab_type": "text"
      },
      "source": [
        "<a href=\"https://colab.research.google.com/github/rafaelronaldo/Tecnicas_De_Desenvolvimento_De_Algoritmos_UDF/blob/main/Lista%20de%20Atividades/Lista_De_Exercicios_25_09_25.ipynb\" target=\"_parent\"><img src=\"https://colab.research.google.com/assets/colab-badge.svg\" alt=\"Open In Colab\"/></a>"
      ]
    },
    {
      "cell_type": "code",
      "execution_count": null,
      "metadata": {
        "id": "lO_Sk-P3BLIj"
      },
      "outputs": [],
      "source": []
    },
    {
      "cell_type": "markdown",
      "source": [
        "1. Elabore um programa que solicite ao usuário um número real e ao final imprima na tela se o\n",
        "número informado é maior que 10 (dez"
      ],
      "metadata": {
        "id": "b9Jw8-PMBUJG"
      }
    },
    {
      "cell_type": "code",
      "source": [
        "numero = float(input(\"Digite um número: \"))\n",
        "if numero > 10:\n",
        "    print(\"O número informado foi {} e é maior que 10.\".format(numero))\n",
        "else:\n",
        "  print(\"O número informado foi {} e não é maior que 10.\".format(numero))"
      ],
      "metadata": {
        "id": "Zc_kVE2mBXR1"
      },
      "execution_count": null,
      "outputs": []
    },
    {
      "cell_type": "markdown",
      "source": [
        "2. Escreva um programa que solicite ao usuário um número real e ao final imprima na tela se\n",
        "o número informado é maior ou igual a dez ou menor que 10 (dez)"
      ],
      "metadata": {
        "id": "h2byW_uhB5UW"
      }
    },
    {
      "cell_type": "code",
      "source": [
        "numero = float(input(\"Digite um número: \"))\n",
        "\n",
        "if numero >= 10:\n",
        "  print(\"O número informado foi\", numero, \"é maior que 10.\")\n",
        "elif numero < 10:\n",
        "  print(\"O número informado foi\", numero, \"é menor que 10.\")\n",
        "\n",
        "\n"
      ],
      "metadata": {
        "id": "QomlsoJDB55V"
      },
      "execution_count": null,
      "outputs": []
    },
    {
      "cell_type": "markdown",
      "source": [
        "3. Elabore um algoritmo que solicite ao usuário um número real e ao final imprima na tela se o\n",
        "número informado é maior que dez, se é menor que dez, ou se é igual a dez"
      ],
      "metadata": {
        "id": "7bLh5fH2Ct-n"
      }
    },
    {
      "cell_type": "code",
      "source": [
        "numero = float(input(\"Digite um número: \"))\n",
        "\n",
        "if numero > 10:\n",
        "  print(\"O número informado foi {} e é maior que 10.\".format(numero))\n",
        "elif numero < 10:\n",
        "  print(\"O número informado foi {} e é menor que 10.\".format(numero))\n",
        "elif numero == 10:\n",
        "  print(\"O número informado foi {} e é igual a 10.\".format(numero))"
      ],
      "metadata": {
        "id": "6ndpq26iCufU"
      },
      "execution_count": null,
      "outputs": []
    },
    {
      "cell_type": "markdown",
      "source": [
        "4. Elabore um algoritmo que solicite ao usuário um número real e ao final imprima na tela se o\n",
        "número informado é positivo, negativo ou nulo (zero"
      ],
      "metadata": {
        "id": "zwBiG5x3DeSt"
      }
    },
    {
      "cell_type": "code",
      "source": [
        "numero = float(input(\"Digite um número: \"))\n",
        "\n",
        "if numero > 0:\n",
        "  print(\"O número informado foi {} é positivo.\".format(numero))\n",
        "elif numero < 0:\n",
        "  print(\"O número informado foi {} é negativo.\".format(numero))\n",
        "elif numero == 0:\n",
        "  print(\"O número informado foi {} é nulo\".format(numero))"
      ],
      "metadata": {
        "id": "PnGwrn02DogS"
      },
      "execution_count": null,
      "outputs": []
    },
    {
      "cell_type": "markdown",
      "source": [
        "5. Elabore um algoritmo que leia um número inteiro e imprima uma das mensagens: é múltiplo\n",
        "de 3, ou, não é múltiplo de 3"
      ],
      "metadata": {
        "id": "ZNAW_QaUEW6F"
      }
    },
    {
      "cell_type": "code",
      "source": [
        "numero = int(input(\"Digite um número: \"))\n",
        "\n",
        "if numero % 3 == 0:\n",
        "  print(\"O número informado foi {} e é múltiplo de 3.\".format(numero))\n",
        "else:\n",
        "  print(\"O número informado foi {} e não é multiplo de 3.\".format(numero))"
      ],
      "metadata": {
        "id": "WGdoQ_9QEbqW"
      },
      "execution_count": null,
      "outputs": []
    },
    {
      "cell_type": "markdown",
      "source": [
        "6. Refazer o exercício anterior, solicitando antes o múltiplo a ser testado\n"
      ],
      "metadata": {
        "id": "E8y9L5FAFWaf"
      }
    },
    {
      "cell_type": "code",
      "source": [
        "numero = int(input(\"Digite um número: \"))\n",
        "multiplo = int(input(\"Digite um múltiplo: \"))\n",
        "\n",
        "if numero % multiplo == 0:\n",
        "  print(\"O número informado foi {} e é multiplo de {}\".format(numero, multiplo))\n",
        "else:\n",
        "  print(\"O número informado foi {} e não é múltiplo de {}\".format(numero, multiplo))"
      ],
      "metadata": {
        "id": "Obghq-vwE6Ty"
      },
      "execution_count": null,
      "outputs": []
    },
    {
      "cell_type": "markdown",
      "source": [
        "7. Desenvolva um algoritmo que classifique um número inteiro fornecido pelo usuário como\n",
        "par ou ímpar"
      ],
      "metadata": {
        "id": "HvOfFVu9J4ee"
      }
    },
    {
      "cell_type": "code",
      "source": [
        "numero = int(input(\"Digite um número: \"))\n",
        "\n",
        "if numero % 2 == 0:\n",
        "  print(\"O número informado foi {} e é positivo\".format(numero))\n",
        "elif numero % 2 == 1:\n",
        "  print(\"O número informado foi {} e é negativo.\".format(numero))\n"
      ],
      "metadata": {
        "id": "l8fdHkrMJ499"
      },
      "execution_count": null,
      "outputs": []
    },
    {
      "cell_type": "markdown",
      "source": [
        "8. Elabore um algoritmo que leia um número, e se ele for maior do que 20, imprimir a metade\n",
        "desse número, caso contrário, imprimir o dobro do número"
      ],
      "metadata": {
        "id": "k42jl4wbLrAm"
      }
    },
    {
      "cell_type": "code",
      "source": [
        "numero = float(input(\"Digite um número: \"))\n",
        "if numero > 20:\n",
        "  print(\"O número informado é {} e a metade desse número é {}\".format(numero, numero/2))\n",
        "elif numero < 10:\n",
        "  print(\"O número informado é {} e o dobro desse número é {}\".format(numero, numero*2))"
      ],
      "metadata": {
        "id": "K7XD19PFLtN9"
      },
      "execution_count": null,
      "outputs": []
    },
    {
      "cell_type": "markdown",
      "source": [
        "9. Elabore um algoritmo que leia dois números inteiros e realize a adição; caso o resultado\n",
        "seja maior que 10, imprima o quadrado do resultado, caso contrário, imprima a metade dele"
      ],
      "metadata": {
        "id": "JonNMld0NbzR"
      }
    },
    {
      "cell_type": "code",
      "source": [
        "numero1 = int(input(\"Digite o primeiro número: \"))\n",
        "numero2 = int(input(\"Digite o segundo número: \"))\n",
        "resultado = numero1 + numero2\n",
        "if resultado > 10:\n",
        "  print(\"O número informado foi: {}\\nO quadrado deste número é: {}\".format(resultado, resultado*2))\n",
        "else:\n",
        "  print(\"O número informado foi: {}\\nA metade deste número é: {}\".format(resultado, resultado/2))"
      ],
      "metadata": {
        "id": "ilySD3DvNcTA"
      },
      "execution_count": null,
      "outputs": []
    },
    {
      "cell_type": "markdown",
      "source": [
        "10. O sistema de avaliação de determinada disciplina é composto por três provas. A primeira\n",
        "prova tem peso 2, a segunda tem peso 3 e a terceira tem peso 5. Considerando que a\n",
        "média para aprovação é 6.0, faça um algoritmo para calcular a média final de um aluno\n",
        "desta disciplina e dizer se o aluno foi aprovado ou não"
      ],
      "metadata": {
        "id": "s-GDS7JzP5Dy"
      }
    },
    {
      "cell_type": "code",
      "source": [
        "nota1 = float(input(\"Digite a primeira nota: \"))\n",
        "nota2 = float(input(\"Digite a segunda nota: \"))\n",
        "nota3 = float(input(\"Digite a terceira nota: \"))\n",
        "mediafinal = (nota1*2 + nota2*3 + nota3*5)/10 #Em média ponderada, você soma os pesos\n",
        "\n",
        "if mediafinal > 6:\n",
        "  print(\"A média final foi de {} e o aluno está aprovado!\".format(mediafinal))\n",
        "else:\n",
        "  print(\"A média final foi de {} e o aluno está reprovado!\".format(mediafinal))\n"
      ],
      "metadata": {
        "id": "9IZ63jVFP5oi"
      },
      "execution_count": null,
      "outputs": []
    },
    {
      "cell_type": "markdown",
      "source": [
        "11. Elabore um algoritmo que leia o nome e o peso de duas pessoas e imprima o nome da\n",
        "pessoa mais pesada"
      ],
      "metadata": {
        "id": "g5PNyHpkW14p"
      }
    },
    {
      "cell_type": "code",
      "source": [
        "nome1 = str(input(\"Qual é o seu nome? \"))\n",
        "peso1 = float(input(\"Digite seu peso: \"))\n",
        "nome2 = str(input(\"Qual é o seu nome? \"))\n",
        "peso2 = float(input(\"Digite seu peso: \"))\n",
        "\n",
        "if (peso1 > peso2):\n",
        "  print(\"O(a) {} é mais pesado(a) que {}\".format(nome1, nome2))\n",
        "else:\n",
        "  print(\"O(a) {} é mais pesado(a) que {}\".format(nome2, nome1))"
      ],
      "metadata": {
        "id": "4whRbHeGW5Sp"
      },
      "execution_count": null,
      "outputs": []
    },
    {
      "cell_type": "markdown",
      "source": [
        "12. Elabore um algoritmo que indique se um número digitado está compreendido entre 20 e\n",
        "90, ou não"
      ],
      "metadata": {
        "id": "TbuBQ0NVZ_jS"
      }
    },
    {
      "cell_type": "code",
      "source": [
        "numero = float(input(\"Digite um número: \"))\n",
        "if numero >= 20 and numero <=90:\n",
        "  print(\"O número {} está entre 20 e 90.\".format(numero))\n",
        "else:\n",
        "  print(\"O número {} não está entre 20 e 90.\".format(numero))"
      ],
      "metadata": {
        "id": "rSUXWX4O99aF"
      },
      "execution_count": null,
      "outputs": []
    },
    {
      "cell_type": "markdown",
      "source": [
        "13. Elabore um algoritmo que leia dois números e imprima qual é maior, qual é menor, ou se\n",
        "são iguais\n",
        "\n",
        "\n",
        "\n"
      ],
      "metadata": {
        "id": "FvEb7Smr-zxe"
      }
    },
    {
      "cell_type": "code",
      "source": [
        "numero1 = float(input(\"Digite o primeiro número: \"))\n",
        "numero2 = float(input(\"Digite o segundo número: \"))\n",
        "\n",
        "if numero1 > numero2:\n",
        "  print(\"O numero {} é maior que {}\".format(numero1, numero2))\n",
        "elif numero2 > numero1:\n",
        "  print(\"O numero {} é maior que {}\".format(numero2, numero1))\n",
        "else:\n",
        "  print(\"O número {} e o {} são iguais\".format(numero1, numero2))"
      ],
      "metadata": {
        "id": "3uXHGejH-13v"
      },
      "execution_count": null,
      "outputs": []
    },
    {
      "cell_type": "markdown",
      "source": [
        "14. Escreva um programa em Python que solicite ao usuário a média para aprovação\n",
        "em um curso e em seguida solicite ao usuário o nome, sexo e as 03 notas do aluno e ao\n",
        "final imprima a frase: \"O aluno XXXXX foi aprovado com media YY\" considerando o gênero\n",
        "do(a) aluno(a) e se foi aprovado(a) ou reprovado(a)"
      ],
      "metadata": {
        "id": "oK5PDbV5AWr3"
      }
    },
    {
      "cell_type": "code",
      "source": [
        "media_curso = float(input(\"Digite a média para a aprovação em um curso: \"))\n",
        "nome = str(input(\"Digite seu nome: \"))\n",
        "sexo = str(input(\"Digite seu sexo M/F: \"))\n",
        "nota1 = float(input(\"Digite sua primeira nota: \"))\n",
        "nota2 = float(input(\"Digite sua segunda nota: \"))\n",
        "nota3 = float(input(\"Digite sua terceira nota: \"))\n",
        "media_nota_aluno = (nota1+nota2+nota3)/3\n",
        "if sexo == \"M\" or sexo == \"m\" and media_nota_aluno >= media_curso:\n",
        "  print(\"O aluno {} foi aprovado com média {}\".format(nome, media_nota_aluno))\n",
        "elif sexo == \"F\" or sexo == \"f\" and media_nota_aluno >= media_curso:\n",
        "  print(\"A aluna {} foi aprovada com média {}\".format(nome, media_nota_aluno))\n",
        "elif sexo == \"M\" or sexo == \"m\" and media_nota_aluno <= media_curso:\n",
        "  print(\"O aluno {} foi reprovado com média {}\".format(nome, media_nota_aluno))\n",
        "elif sexo == \"F\" or sexo == \"f\" and media_nota_aluno <= media_curso:\n",
        "  print(\"A aluna {} foi reprovada com média {}\".format(nome, media_nota_aluno))"
      ],
      "metadata": {
        "colab": {
          "base_uri": "https://localhost:8080/"
        },
        "id": "Sh0kYWdVAZOd",
        "outputId": "b79f593a-aee1-434e-b335-74f1efb0142d"
      },
      "execution_count": 31,
      "outputs": [
        {
          "output_type": "stream",
          "name": "stdout",
          "text": [
            "Digite a média para a aprovação em um curso: 6\n",
            "Digite seu nome: Rafael\n",
            "Digite seu sexo M/F: M\n",
            "Digite sua primeira nota: 7\n",
            "Digite sua segunda nota: 7\n",
            "Digite sua terceira nota: 7\n",
            "O aluno Rafael foi aprovado com média 7.0\n"
          ]
        }
      ]
    }
  ]
}