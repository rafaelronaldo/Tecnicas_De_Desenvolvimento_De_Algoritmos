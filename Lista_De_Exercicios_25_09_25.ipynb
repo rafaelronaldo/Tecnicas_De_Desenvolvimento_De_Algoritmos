{
  "nbformat": 4,
  "nbformat_minor": 0,
  "metadata": {
    "colab": {
      "provenance": [],
      "authorship_tag": "ABX9TyMpu6/G3wx4YSKwsk7RBgYg",
      "include_colab_link": true
    },
    "kernelspec": {
      "name": "python3",
      "display_name": "Python 3"
    },
    "language_info": {
      "name": "python"
    }
  },
  "cells": [
    {
      "cell_type": "markdown",
      "metadata": {
        "id": "view-in-github",
        "colab_type": "text"
      },
      "source": [
        "<a href=\"https://colab.research.google.com/github/rafaelronaldo/Tecnicas_De_Desenvolvimento_De_Algoritmos/blob/main/Lista_De_Exercicios_25_09_25.ipynb\" target=\"_parent\"><img src=\"https://colab.research.google.com/assets/colab-badge.svg\" alt=\"Open In Colab\"/></a>"
      ]
    },
    {
      "cell_type": "code",
      "execution_count": null,
      "metadata": {
        "id": "lO_Sk-P3BLIj"
      },
      "outputs": [],
      "source": []
    },
    {
      "cell_type": "markdown",
      "source": [
        "1. Elabore um programa que solicite ao usuário um número real e ao final imprima na tela se o\n",
        "número informado é maior que 10 (dez"
      ],
      "metadata": {
        "id": "b9Jw8-PMBUJG"
      }
    },
    {
      "cell_type": "code",
      "source": [
        "numero = float(input(\"Digite um número: \"))\n",
        "if numero > 10:\n",
        "    print(\"O número informado foi {} e é maior que 10.\".format(numero))\n",
        "else:\n",
        "  print(\"O número informado foi {} e não é maior que 10.\".format(numero))"
      ],
      "metadata": {
        "colab": {
          "base_uri": "https://localhost:8080/"
        },
        "id": "Zc_kVE2mBXR1",
        "outputId": "306ce9ab-2612-45c7-ec64-ded5e3c3c7e3"
      },
      "execution_count": 19,
      "outputs": [
        {
          "output_type": "stream",
          "name": "stdout",
          "text": [
            "Digite um número: 15\n",
            "O número informado foi 15.0 e é maior que 10.\n"
          ]
        }
      ]
    },
    {
      "cell_type": "markdown",
      "source": [
        "2. Escreva um programa que solicite ao usuário um número real e ao final imprima na tela se\n",
        "o número informado é maior ou igual a dez ou menor que 10 (dez)"
      ],
      "metadata": {
        "id": "h2byW_uhB5UW"
      }
    },
    {
      "cell_type": "code",
      "source": [
        "numero = float(input(\"Digite um número: \"))\n",
        "\n",
        "if numero >= 10:\n",
        "  print(\"O número informado foi\", numero, \"é maior que 10.\")\n",
        "elif numero < 10:\n",
        "  print(\"O número informado foi\", numero, \"é menor que 10.\")\n",
        "\n",
        "\n"
      ],
      "metadata": {
        "colab": {
          "base_uri": "https://localhost:8080/"
        },
        "id": "QomlsoJDB55V",
        "outputId": "38e0e0c4-c777-4a65-8b41-ef42ba7ded76"
      },
      "execution_count": 27,
      "outputs": [
        {
          "output_type": "stream",
          "name": "stdout",
          "text": [
            "Digite um número: 8\n",
            "O número informado foi 8.0 é menor que 10.\n"
          ]
        }
      ]
    },
    {
      "cell_type": "markdown",
      "source": [
        "3. Elabore um algoritmo que solicite ao usuário um número real e ao final imprima na tela se o\n",
        "número informado é maior que dez, se é menor que dez, ou se é igual a dez"
      ],
      "metadata": {
        "id": "7bLh5fH2Ct-n"
      }
    },
    {
      "cell_type": "code",
      "source": [
        "numero = float(input(\"Digite um número: \"))\n",
        "\n",
        "if numero > 10:\n",
        "  print(\"O número informado foi {} e é maior que 10.\".format(numero))\n",
        "elif numero < 10:\n",
        "  print(\"O número informado foi {} e é menor que 10.\".format(numero))\n",
        "elif numero == 10:\n",
        "  print(\"O número informado foi {} e é igual a 10.\".format(numero))"
      ],
      "metadata": {
        "colab": {
          "base_uri": "https://localhost:8080/"
        },
        "id": "6ndpq26iCufU",
        "outputId": "d491af82-dccb-428f-b0b8-64c2efaab588"
      },
      "execution_count": 22,
      "outputs": [
        {
          "output_type": "stream",
          "name": "stdout",
          "text": [
            "Digite um número: 15\n",
            "O número informado foi 15.0 é maior que 10.\n"
          ]
        }
      ]
    },
    {
      "cell_type": "markdown",
      "source": [
        "4. Elabore um algoritmo que solicite ao usuário um número real e ao final imprima na tela se o\n",
        "número informado é positivo, negativo ou nulo (zero"
      ],
      "metadata": {
        "id": "zwBiG5x3DeSt"
      }
    },
    {
      "cell_type": "code",
      "source": [
        "numero = float(input(\"Digite um número: \"))\n",
        "\n",
        "if numero > 0:\n",
        "  print(\"O número informado foi {} é positivo.\".format(numero))\n",
        "elif numero < 0:\n",
        "  print(\"O número informado foi {} é negativo.\".format(numero))\n",
        "elif numero == 0:\n",
        "  print(\"O número informado foi {} é nulo\".format(numero))"
      ],
      "metadata": {
        "colab": {
          "base_uri": "https://localhost:8080/"
        },
        "id": "PnGwrn02DogS",
        "outputId": "c116c120-745c-4259-d905-ff9517b9867e"
      },
      "execution_count": 23,
      "outputs": [
        {
          "output_type": "stream",
          "name": "stdout",
          "text": [
            "Digite um número: -52\n",
            "O número informado foi -52.0 é negativo.\n"
          ]
        }
      ]
    },
    {
      "cell_type": "markdown",
      "source": [
        "5. Elabore um algoritmo que leia um número inteiro e imprima uma das mensagens: é múltiplo\n",
        "de 3, ou, não é múltiplo de 3"
      ],
      "metadata": {
        "id": "ZNAW_QaUEW6F"
      }
    },
    {
      "cell_type": "code",
      "source": [
        "numero = int(input(\"Digite um número: \"))\n",
        "\n",
        "if numero % 3 == 0:\n",
        "  print(\"O número informado foi {} e é múltiplo de 3.\".format(numero))\n",
        "else:\n",
        "  print(\"O número informado foi {} e não é multiplo de 3.\".format(numero))"
      ],
      "metadata": {
        "colab": {
          "base_uri": "https://localhost:8080/"
        },
        "id": "WGdoQ_9QEbqW",
        "outputId": "4a1c03b9-2f8f-4918-e606-4b93da74f064"
      },
      "execution_count": 29,
      "outputs": [
        {
          "output_type": "stream",
          "name": "stdout",
          "text": [
            "Digite um número: 72\n",
            "O número informado foi 72 e é múltiplo de 3.\n"
          ]
        }
      ]
    },
    {
      "cell_type": "markdown",
      "source": [
        "6. Refazer o exercício anterior, solicitando antes o múltiplo a ser testado\n"
      ],
      "metadata": {
        "id": "E8y9L5FAFWaf"
      }
    },
    {
      "cell_type": "code",
      "source": [
        "numero = int(input(\"Digite um número: \"))\n",
        "multiplo = int(input(\"Digite um múltiplo: \"))\n",
        "\n",
        "if numero % multiplo == 0:\n",
        "  print(\"O número informado foi {} e é multiplo de {}\".format(numero, multiplo))\n",
        "else:\n",
        "  print(\"O número informado foi {} e não é múltiplo de {}\".format(numero, multiplo))"
      ],
      "metadata": {
        "colab": {
          "base_uri": "https://localhost:8080/"
        },
        "id": "Obghq-vwE6Ty",
        "outputId": "0d032d17-9c62-44f8-ccc4-a1736cf64ef9"
      },
      "execution_count": 35,
      "outputs": [
        {
          "output_type": "stream",
          "name": "stdout",
          "text": [
            "Digite um número: 5\n",
            "Digite um múltiplo: 3\n",
            "O número informado foi 5 e não é múltiplo de 3\n"
          ]
        }
      ]
    },
    {
      "cell_type": "markdown",
      "source": [
        "7. Desenvolva um algoritmo que classifique um número inteiro fornecido pelo usuário como\n",
        "par ou ímpar"
      ],
      "metadata": {
        "id": "HvOfFVu9J4ee"
      }
    },
    {
      "cell_type": "code",
      "source": [
        "numero = int(input(\"Digite um número: \"))\n",
        "\n",
        "if numero % 2 == 0:\n",
        "  print(\"O número informado foi {} e é positivo\".format(numero))\n",
        "elif numero % 2 == 1:\n",
        "  print(\"O número informado foi {} e é negativo.\".format(numero))\n"
      ],
      "metadata": {
        "colab": {
          "base_uri": "https://localhost:8080/"
        },
        "id": "l8fdHkrMJ499",
        "outputId": "cfefe328-a32b-4ce7-e024-00608619ebfc"
      },
      "execution_count": 34,
      "outputs": [
        {
          "output_type": "stream",
          "name": "stdout",
          "text": [
            "Digite um número: 9\n",
            "O número informado foi 9 e é negativo.\n"
          ]
        }
      ]
    },
    {
      "cell_type": "markdown",
      "source": [
        "8. Elabore um algoritmo que leia um número, e se ele for maior do que 20, imprimir a metade\n",
        "desse número, caso contrário, imprimir o dobro do número"
      ],
      "metadata": {
        "id": "k42jl4wbLrAm"
      }
    },
    {
      "cell_type": "code",
      "source": [
        "numero = float(input(\"Digite um número: \"))\n",
        "if numero > 20:\n",
        "  print(\"O número informado é {} e a metade desse número é {}\".format(numero, numero/2))\n",
        "elif numero < 10:\n",
        "  print(\"O número informado é {} e o dobro desse número é {}\".format(numero, numero*2))"
      ],
      "metadata": {
        "colab": {
          "base_uri": "https://localhost:8080/"
        },
        "id": "K7XD19PFLtN9",
        "outputId": "48cc5d5c-bf5f-4aff-a68a-f7ec0798d79a"
      },
      "execution_count": 41,
      "outputs": [
        {
          "output_type": "stream",
          "name": "stdout",
          "text": [
            "Digite um número: 10\n",
            "O número informado é 10.0 e o dobro desse número é 20.0\n"
          ]
        }
      ]
    },
    {
      "cell_type": "markdown",
      "source": [
        "9. Elabore um algoritmo que leia dois números inteiros e realize a adição; caso o resultado\n",
        "seja maior que 10, imprima o quadrado do resultado, caso contrário, imprima a metade dele"
      ],
      "metadata": {
        "id": "JonNMld0NbzR"
      }
    },
    {
      "cell_type": "code",
      "source": [
        "numero1 = int(input(\"Digite o primeiro número: \"))\n",
        "numero2 = int(input(\"Digite o segundo número: \"))\n",
        "resultado = numero1 + numero2\n",
        "if resultado > 10:\n",
        "  print(\"O número informado foi: {}\\nO quadrado deste número é: {}\".format(resultado, resultado*2))\n",
        "else:\n",
        "  print(\"O número informado foi: {}\\nA metade deste número é: {}\".format(resultado, resultado/2))"
      ],
      "metadata": {
        "colab": {
          "base_uri": "https://localhost:8080/"
        },
        "id": "ilySD3DvNcTA",
        "outputId": "ae4d69b2-cb82-4586-9731-3685b009eca1"
      },
      "execution_count": 52,
      "outputs": [
        {
          "output_type": "stream",
          "name": "stdout",
          "text": [
            "Digite o primeiro número: 5\n",
            "Digite o segundo número: 5\n",
            "O número informado foi: 10\n",
            "A metade deste número é: 5.0\n"
          ]
        }
      ]
    },
    {
      "cell_type": "markdown",
      "source": [
        "10. O sistema de avaliação de determinada disciplina é composto por três provas. A primeira\n",
        "prova tem peso 2, a segunda tem peso 3 e a terceira tem peso 5. Considerando que a\n",
        "média para aprovação é 6.0, faça um algoritmo para calcular a média final de um aluno\n",
        "desta disciplina e dizer se o aluno foi aprovado ou não"
      ],
      "metadata": {
        "id": "s-GDS7JzP5Dy"
      }
    },
    {
      "cell_type": "code",
      "source": [
        "nota1 = float(input(\"Digite a primeira nota: \"))\n",
        "nota2 = float(input(\"Digite a segunda nota: \"))\n",
        "nota3 = float(input(\"Digite a terceira nota: \"))\n",
        "mediafinal = (nota1*2 + nota2*3 + nota3*5)/10 #Em média ponderada, você soma os pesos\n",
        "\n",
        "if mediafinal > 6:\n",
        "  print(\"A média final foi de {} e o aluno está aprovado!\".format(mediafinal))\n",
        "else:\n",
        "  print(\"A média final foi de {} e o aluno está reprovado!\".format(mediafinal))\n"
      ],
      "metadata": {
        "colab": {
          "base_uri": "https://localhost:8080/"
        },
        "id": "9IZ63jVFP5oi",
        "outputId": "8ad201ac-dfd8-4ec2-8be5-1ddf057a9bb3"
      },
      "execution_count": 66,
      "outputs": [
        {
          "output_type": "stream",
          "name": "stdout",
          "text": [
            "Digite a primeira nota: 2\n",
            "Digite a segunda nota: 4\n",
            "Digite a terceira nota: 2\n",
            "A média final foi de 2.6 e o aluno está reprovado!\n"
          ]
        }
      ]
    },
    {
      "cell_type": "markdown",
      "source": [
        "11. Elabore um algoritmo que leia o nome e o peso de duas pessoas e imprima o nome da\n",
        "pessoa mais pesada"
      ],
      "metadata": {
        "id": "g5PNyHpkW14p"
      }
    },
    {
      "cell_type": "code",
      "source": [
        "nome1 = str(input(\"Qual é o seu nome? \"))\n",
        "peso1 = float(input(\"Digite seu peso: \"))\n",
        "nome2 = str(input(\"Qual é o seu nome? \"))\n",
        "peso2 = float(input(\"Digite seu peso: \"))\n",
        "\n",
        "if (peso1 > peso2):\n",
        "  print(\"O(a) {} é mais pesado(a) que {}\".format(nome1, nome2))\n",
        "else:\n",
        "  print(\"O(a) {} é mais pesado(a) que {}\".format(nome2, nome1))"
      ],
      "metadata": {
        "colab": {
          "base_uri": "https://localhost:8080/"
        },
        "id": "4whRbHeGW5Sp",
        "outputId": "36dbe9ac-11e5-4692-8983-5b3b69c3f177"
      },
      "execution_count": 81,
      "outputs": [
        {
          "output_type": "stream",
          "name": "stdout",
          "text": [
            "Qual é o seu nome? Rafael\n",
            "Digite seu peso: 50\n",
            "Qual é o seu nome? Gabriel\n",
            "Digite seu peso: 72\n",
            "O(a) Gabriel é mais pesado(a) que Rafael\n"
          ]
        }
      ]
    },
    {
      "cell_type": "markdown",
      "source": [
        "12. Elabore um algoritmo que indique se um número digitado está compreendido entre 20 e\n",
        "90, ou não"
      ],
      "metadata": {
        "id": "TbuBQ0NVZ_jS"
      }
    }
  ]
}